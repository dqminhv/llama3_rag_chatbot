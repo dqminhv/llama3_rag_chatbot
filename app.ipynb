{
 "cells": [
  {
   "cell_type": "code",
   "execution_count": null,
   "id": "a79fc2a8-a846-4050-8b31-41c56b87d34e",
   "metadata": {
    "tags": []
   },
   "outputs": [],
   "source": [
    "from datasets import load_dataset\n",
    "\n",
    "hotel_review_d = load_dataset('ashraq/hotel-reviews', split = 'train')"
   ]
  },
  {
   "cell_type": "code",
   "execution_count": null,
   "id": "9c8b0eb6-0c5e-4c25-9dfd-d4a597b2739c",
   "metadata": {
    "tags": []
   },
   "outputs": [],
   "source": [
    "hotel_review_df = hotel_review_d.to_pandas()"
   ]
  },
  {
   "cell_type": "code",
   "execution_count": null,
   "id": "2fd63190-8a81-4c5e-a462-a39081422b8b",
   "metadata": {
    "tags": []
   },
   "outputs": [],
   "source": [
    "from llama_index.core import Document\n",
    "documents = [Document(text=row['review'], metadata={'hotel': row['hotel_name']}) for index, row in hotel_review_df.iterrows()]"
   ]
  },
  {
   "cell_type": "code",
   "execution_count": null,
   "id": "890c70e6-10b9-4338-8673-6f0bab2d7034",
   "metadata": {
    "tags": []
   },
   "outputs": [],
   "source": [
    "from llama_index.embeddings.huggingface import HuggingFaceEmbedding\n",
    "\n",
    "embed_model = HuggingFaceEmbedding(model_name=\"BAAI/bge-small-en-v1.5\")"
   ]
  },
  {
   "cell_type": "code",
   "execution_count": null,
   "id": "a032d199-156f-4f05-b118-4c7c2d0fba7c",
   "metadata": {
    "tags": []
   },
   "outputs": [],
   "source": [
    "from llama_index.llms.ollama import Ollama\n",
    "\n",
    "llm = Ollama(model=\"llama3:instruct\", request_timeout=60.0)\n",
    "\n",
    "response = llm.complete(\"What is the capital of France?\")\n",
    "print(response)"
   ]
  },
  {
   "cell_type": "code",
   "execution_count": null,
   "id": "6e6094f4-f9f5-49aa-81b8-fd8062e0c387",
   "metadata": {
    "tags": []
   },
   "outputs": [],
   "source": [
    "from llama_index.core import Settings\n",
    "\n",
    "Settings.llm = llm\n",
    "Settings.chunk_size = 512\n",
    "Settings.embed_model = embed_model"
   ]
  },
  {
   "cell_type": "code",
   "execution_count": null,
   "id": "45153e75-0c36-4ac4-8257-4fae0baf8f05",
   "metadata": {
    "tags": []
   },
   "outputs": [],
   "source": [
    "from llama_index.core import VectorStoreIndex\n",
    "index = VectorStoreIndex.from_documents(\n",
    "    documents\n",
    ")"
   ]
  },
  {
   "cell_type": "code",
   "execution_count": null,
   "id": "c86b6c48-f6e0-46aa-a3db-7b71d5e5713d",
   "metadata": {
    "tags": []
   },
   "outputs": [],
   "source": [
    "index.storage_context.persist(persist_dir=\"hotel\")"
   ]
  },
  {
   "cell_type": "code",
   "execution_count": null,
   "id": "6eb47af4-67ae-46cb-916a-459c2ae88c06",
   "metadata": {
    "tags": []
   },
   "outputs": [],
   "source": [
    "from llama_index.core import StorageContext, load_index_from_storage\n",
    "\n",
    "# rebuild storage context\n",
    "storage_context = StorageContext.from_defaults(persist_dir=\"hotel\")\n",
    "\n",
    "# load index\n",
    "vector_index = load_index_from_storage(storage_context)"
   ]
  },
  {
   "cell_type": "code",
   "execution_count": null,
   "id": "3523bed8-cb91-47c3-b6c4-06dc4294dc0b",
   "metadata": {
    "tags": []
   },
   "outputs": [],
   "source": [
    "query_engine = vector_index.as_query_engine(similarity_top_k=10)\n"
   ]
  },
  {
   "cell_type": "code",
   "execution_count": null,
   "id": "84c8859d-af0f-4e97-a5c4-14a8e90707e9",
   "metadata": {
    "tags": []
   },
   "outputs": [],
   "source": [
    "import pandas as pd\n",
    "import geopy\n",
    "from geopy.geocoders import Nominatim\n",
    "import random\n",
    "\n",
    "# assume your original dataframe is called df\n",
    "\n",
    "# extract unique hotel names into a new dataframe\n",
    "hotel_names_df = pd.DataFrame(hotel_review_df['hotel_name'].unique(), columns=['hotel_name'])\n",
    "\n",
    "# create a geolocator object\n",
    "geolocator = Nominatim(user_agent=\"my_app\")\n",
    "\n",
    "# create two new columns for longitude and latitude\n",
    "hotel_names_df['longitude'] = None\n",
    "hotel_names_df['latitude'] = None\n",
    "\n",
    "# define a function to generate a random location in London\n",
    "def random_london_location():\n",
    "    # London's bounding box: 51.2868° N, 0.0053° W, 51.6913° N, 0.1743° E\n",
    "    lat = random.uniform(51.2868, 51.6913)\n",
    "    lon = random.uniform(-0.1743, 0.0053)\n",
    "    return lat, lon\n",
    "\n",
    "# loop through each hotel name and get its lat/long info\n",
    "for index, row in hotel_names_df.iterrows():\n",
    "    hotel_name = row['hotel_name'] + ', London'\n",
    "    location = geolocator.geocode(hotel_name)\n",
    "    if location:\n",
    "        hotel_names_df.at[index, 'longitude'] = location.longitude\n",
    "        hotel_names_df.at[index, 'latitude'] = location.latitude\n",
    "    else:\n",
    "        lat, lon = random_london_location()\n",
    "        hotel_names_df.at[index, 'longitude'] = lon\n",
    "        hotel_names_df.at[index, 'latitude'] = lat\n",
    "        print(f\"Could not find location for {hotel_name}, using random location instead\")\n",
    "\n",
    "# print the resulting dataframe\n",
    "print(hotel_names_df)"
   ]
  },
  {
   "cell_type": "code",
   "execution_count": null,
   "id": "f8203974-00ae-4686-8e9d-e049c5a0f28d",
   "metadata": {
    "tags": []
   },
   "outputs": [],
   "source": [
    "import gradio as gr\n",
    "import pandas as pd\n",
    "import folium\n",
    "\n",
    "# assume hotel_names_df is the dataframe with hotel names and lat/long info\n",
    "\n",
    "def query(text):\n",
    "    z = query_engine.query(text)\n",
    "    return z\n",
    "\n",
    "def generate_map(hotel_names):\n",
    "    # generate map using Folium\n",
    "    m = folium.Map(location=[51.5074, -0.1278], zoom_start=12)\n",
    "    for hotel_name in hotel_names:\n",
    "        lat = hotel_names_df[hotel_names_df['hotel_name'] == hotel_name]['latitude'].values[0]\n",
    "        lon = hotel_names_df[hotel_names_df['hotel_name'] == hotel_name]['longitude'].values[0]\n",
    "        folium.Marker([lat, lon], popup=hotel_name).add_to(m)\n",
    "    return m._repr_html_()\n",
    "\n",
    "def interface(text):\n",
    "    z = query(text)\n",
    "    response = z.response\n",
    "    hotel_names = list(set([z.source_nodes[i].metadata['hotel'] for i in range(len(z.source_nodes))]))\n",
    "    map_html = generate_map(hotel_names)\n",
    "    return response, map_html\n",
    "\n"
   ]
  },
  {
   "cell_type": "code",
   "execution_count": null,
   "id": "b2c40f61-238c-4c3e-bf6c-a055e5364048",
   "metadata": {
    "tags": []
   },
   "outputs": [],
   "source": [
    "query_engine('Which hotel had the best food')"
   ]
  },
  {
   "cell_type": "code",
   "execution_count": 103,
   "id": "936020d7-d2ef-46ff-901f-3446c4a825dd",
   "metadata": {
    "tags": []
   },
   "outputs": [
    {
     "name": "stdout",
     "output_type": "stream",
     "text": [
      "Running on local URL:  http://127.0.0.1:7891\n",
      "Running on public URL: https://008340d959c3d5337e.gradio.live\n",
      "\n",
      "This share link expires in 72 hours. For free permanent hosting and GPU upgrades, run `gradio deploy` from Terminal to deploy to Spaces (https://huggingface.co/spaces)\n"
     ]
    },
    {
     "data": {
      "text/html": [
       "<div><iframe src=\"https://008340d959c3d5337e.gradio.live\" width=\"100%\" height=\"500\" allow=\"autoplay; camera; microphone; clipboard-read; clipboard-write;\" frameborder=\"0\" allowfullscreen></iframe></div>"
      ],
      "text/plain": [
       "<IPython.core.display.HTML object>"
      ]
     },
     "metadata": {},
     "output_type": "display_data"
    },
    {
     "data": {
      "text/plain": []
     },
     "execution_count": 103,
     "metadata": {},
     "output_type": "execute_result"
    }
   ],
   "source": [
    "import gradio as gr\n",
    "import folium\n",
    "\n",
    "with gr.Blocks(theme=gr.themes.Glass().set(block_title_text_color= \"black\", body_background_fill=\"black\", input_background_fill= \"black\", body_text_color=\"white\")) as demo:\n",
    "    \n",
    "    gr.Markdown(\"<style>h1 {text-align: center;display: block;}</style><h1>Hotel Reviews Chatbot</h1>\")\n",
    "    with gr.Row():\n",
    "        output_text = gr.Textbox(lines=20)\n",
    "        map_area = gr.HTML(value=folium.Map(location=[51.5074, -0.1278], zoom_start=12)._repr_html_())\n",
    "        \n",
    "    with gr.Row():\n",
    "        input_text = gr.Textbox(label='Enter your query here')\n",
    "        \n",
    "    input_text.submit(fn=interface, inputs=input_text, outputs=[output_text, map_area])\n",
    "                      \n",
    "demo.launch(share=True)"
   ]
  },
  {
   "cell_type": "code",
   "execution_count": null,
   "id": "e8ed9d05-df58-4375-a04a-43ecbb2d7651",
   "metadata": {},
   "outputs": [],
   "source": []
  }
 ],
 "metadata": {
  "environment": {
   "kernel": "conda-root-py",
   "name": "workbench-notebooks.m119",
   "type": "gcloud",
   "uri": "us-docker.pkg.dev/deeplearning-platform-release/gcr.io/workbench-notebooks:m119"
  },
  "kernelspec": {
   "display_name": "Python 3 (ipykernel) (Local)",
   "language": "python",
   "name": "conda-root-py"
  },
  "language_info": {
   "codemirror_mode": {
    "name": "ipython",
    "version": 3
   },
   "file_extension": ".py",
   "mimetype": "text/x-python",
   "name": "python",
   "nbconvert_exporter": "python",
   "pygments_lexer": "ipython3",
   "version": "3.10.14"
  }
 },
 "nbformat": 4,
 "nbformat_minor": 5
}
